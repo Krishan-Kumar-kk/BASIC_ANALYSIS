{
  "nbformat": 4,
  "nbformat_minor": 0,
  "metadata": {
    "colab": {
      "name": "list_DType.ipynb",
      "provenance": [],
      "collapsed_sections": [],
      "include_colab_link": true
    },
    "kernelspec": {
      "name": "python3",
      "display_name": "Python 3"
    },
    "language_info": {
      "name": "python"
    }
  },
  "cells": [
    {
      "cell_type": "markdown",
      "metadata": {
        "id": "view-in-github",
        "colab_type": "text"
      },
      "source": [
        "<a href=\"https://colab.research.google.com/github/Krishan-Kumar-kk/BASIC_ANALYSIS/blob/main/list_DType.ipynb\" target=\"_parent\"><img src=\"https://colab.research.google.com/assets/colab-badge.svg\" alt=\"Open In Colab\"/></a>"
      ]
    },
    {
      "cell_type": "markdown",
      "metadata": {
        "id": "7DHlxw7KS4LO"
      },
      "source": [
        "**[Slide No.- 35]**\n",
        "\n",
        "1. Create a empty list and check its Data type "
      ]
    },
    {
      "cell_type": "code",
      "metadata": {
        "id": "9tPdozyQj7cu"
      },
      "source": [
        ""
      ],
      "execution_count": null,
      "outputs": []
    },
    {
      "cell_type": "code",
      "metadata": {
        "id": "RtfUHgj5a45J",
        "colab": {
          "base_uri": "https://localhost:8080/"
        },
        "outputId": "2a7f3074-7258-446c-bea5-e960cfcd4c18"
      },
      "source": [
        "\n"
      ],
      "execution_count": null,
      "outputs": [
        {
          "output_type": "stream",
          "text": [
            "data type of a:  <class 'list'>\n"
          ],
          "name": "stdout"
        }
      ]
    },
    {
      "cell_type": "markdown",
      "metadata": {
        "id": "4EnsxsI0FPcv"
      },
      "source": [
        ""
      ]
    },
    {
      "cell_type": "code",
      "metadata": {
        "id": "ef5HNtgtSDwz"
      },
      "source": [
        ""
      ],
      "execution_count": null,
      "outputs": []
    },
    {
      "cell_type": "markdown",
      "metadata": {
        "id": "KbC4gtb0Wo4u"
      },
      "source": [
        "**[Slide No.- 35]**\n",
        "\n",
        "2. Create a list in which at even places string are present and at odd places integervalue is present and the length of the string is 6."
      ]
    },
    {
      "cell_type": "code",
      "metadata": {
        "id": "BzIsIJzXWpMO"
      },
      "source": [
        "\n"
      ],
      "execution_count": null,
      "outputs": []
    },
    {
      "cell_type": "markdown",
      "metadata": {
        "id": "NhGbCdSfTFa7"
      },
      "source": [
        "**[Slide No. - 36]**\n",
        "\n",
        "3. Create a lsit which has 6 elements and print last three elements from the list "
      ]
    },
    {
      "cell_type": "code",
      "metadata": {
        "id": "SUzgZi8DTF5C"
      },
      "source": [
        "\n"
      ],
      "execution_count": null,
      "outputs": []
    },
    {
      "cell_type": "markdown",
      "metadata": {
        "id": "3LhHLCB6Tm8K"
      },
      "source": [
        "**[Slide No. - 36 ]**\n",
        "\n",
        "4. What is the output :\n",
        " list = [1,2,3,4,5,6,7] \n",
        " \n",
        " list[:]=?"
      ]
    },
    {
      "cell_type": "code",
      "metadata": {
        "id": "zfkX5LLzTnXP",
        "colab": {
          "base_uri": "https://localhost:8080/"
        },
        "outputId": "a95ef6db-626c-49f9-adb4-f53056ae2530"
      },
      "source": [
        ""
      ],
      "execution_count": null,
      "outputs": [
        {
          "output_type": "execute_result",
          "data": {
            "text/plain": [
              "['xyz', 3, 'etc']"
            ]
          },
          "metadata": {
            "tags": []
          },
          "execution_count": 3
        }
      ]
    },
    {
      "cell_type": "markdown",
      "metadata": {
        "id": "93qfPdkuTnfg"
      },
      "source": [
        "**[Slide No. - 36]**\n",
        "\n",
        "5. What is the output : list = [1,2,3,4,5,6,7]\n",
        "\n",
        "Print the even places items from the list."
      ]
    },
    {
      "cell_type": "code",
      "metadata": {
        "id": "otaNABAtTnrp",
        "colab": {
          "base_uri": "https://localhost:8080/"
        },
        "outputId": "34745c0b-4788-4ba3-ec8e-30bc9b456180"
      },
      "source": [
        "\n"
      ],
      "execution_count": null,
      "outputs": [
        {
          "output_type": "stream",
          "text": [
            "[1, 5]\n"
          ],
          "name": "stdout"
        }
      ]
    },
    {
      "cell_type": "markdown",
      "metadata": {
        "id": "SdSk9Z-vTn4h"
      },
      "source": [
        "**[Slide No. - 36]**\n",
        "\n",
        "6. What is the output : list = [1,2,3,4,10,11,7]\n",
        "\n",
        "print 10 and 11 item from the list ."
      ]
    },
    {
      "cell_type": "code",
      "metadata": {
        "id": "i9rupinIToAR",
        "colab": {
          "base_uri": "https://localhost:8080/"
        },
        "outputId": "dd0b0d54-b7bc-42d2-d248-61db533898c3"
      },
      "source": [
        "\n"
      ],
      "execution_count": null,
      "outputs": [
        {
          "output_type": "stream",
          "text": [
            "[10, 11]\n"
          ],
          "name": "stdout"
        }
      ]
    },
    {
      "cell_type": "code",
      "metadata": {
        "colab": {
          "base_uri": "https://localhost:8080/"
        },
        "id": "MwcV2xqgOIb9",
        "outputId": "038e75c3-1912-4ce6-fb61-b3415472221c"
      },
      "source": [
        ""
      ],
      "execution_count": null,
      "outputs": [
        {
          "output_type": "execute_result",
          "data": {
            "text/plain": [
              "[7, 11, 10, 4, 3, 2, 1]"
            ]
          },
          "metadata": {
            "tags": []
          },
          "execution_count": 10
        }
      ]
    },
    {
      "cell_type": "markdown",
      "metadata": {
        "id": "jKf-xLTiToHF"
      },
      "source": [
        "**[Slide No. -38]**\n",
        "\n",
        "7.  Delete the 3 index value from the list and the print the list.\n",
        "\n",
        "list = [1, 2, 3, 4, 5, 6]    \n",
        "\n",
        "print(list)    \n",
        "    \n",
        " "
      ]
    },
    {
      "cell_type": "code",
      "metadata": {
        "id": "YSwSSoZSToQT",
        "colab": {
          "base_uri": "https://localhost:8080/"
        },
        "outputId": "bb8664cb-53bc-475b-dd78-3ae2aff89326"
      },
      "source": [
        "\n"
      ],
      "execution_count": null,
      "outputs": [
        {
          "output_type": "stream",
          "text": [
            "[1, 2, 4, 5, 6]\n"
          ],
          "name": "stdout"
        }
      ]
    },
    {
      "cell_type": "code",
      "metadata": {
        "colab": {
          "base_uri": "https://localhost:8080/"
        },
        "id": "mX3qq3_NPGbL",
        "outputId": "196829d8-51cd-41d7-c6f3-391b07ccceb7"
      },
      "source": [
        "\n"
      ],
      "execution_count": null,
      "outputs": [
        {
          "output_type": "stream",
          "text": [
            "[1, 2, 3, 5, 6]\n"
          ],
          "name": "stdout"
        }
      ]
    },
    {
      "cell_type": "markdown",
      "metadata": {
        "id": "XqIA7Ia9Umga"
      },
      "source": [
        "[Slide No. - 37]\n",
        "8. list = [1, \"a\", 3, 4, 5, 6] \n",
        "\n",
        "replace \"a\" by 2 in the list\n",
        "\n",
        "What is the new list?"
      ]
    },
    {
      "cell_type": "code",
      "metadata": {
        "id": "fCgmnwKlUm7K"
      },
      "source": [
        "\n"
      ],
      "execution_count": null,
      "outputs": []
    },
    {
      "cell_type": "code",
      "metadata": {
        "colab": {
          "base_uri": "https://localhost:8080/"
        },
        "id": "RGKbvZV9QXqw",
        "outputId": "46e5d011-cf6e-4189-ea49-7fc93a8292a8"
      },
      "source": [
        ""
      ],
      "execution_count": null,
      "outputs": [
        {
          "output_type": "stream",
          "text": [
            "Krish\n"
          ],
          "name": "stdout"
        }
      ]
    },
    {
      "cell_type": "markdown",
      "metadata": {
        "id": "PbqBBeiMUnMA"
      },
      "source": [
        "**[Slide No - 37]**\n",
        "\n",
        "9. list = [1, 2, 3, 4, 5, 6] \n",
        "\n",
        "by using neagtive indexing replace 5 by 'e' in the list \n",
        "\n",
        "print(list)"
      ]
    },
    {
      "cell_type": "code",
      "metadata": {
        "id": "EsvRWH48UnWJ",
        "colab": {
          "base_uri": "https://localhost:8080/"
        },
        "outputId": "f99511ad-43d7-465a-d841-6174621ba3eb"
      },
      "source": [
        "\n"
      ],
      "execution_count": null,
      "outputs": [
        {
          "output_type": "stream",
          "text": [
            "[1, 2, 3, 4, 'e', 6]\n"
          ],
          "name": "stdout"
        }
      ]
    },
    {
      "cell_type": "markdown",
      "metadata": {
        "id": "-2YsXQGKVGxY"
      },
      "source": [
        "**[Slide No. - 37]**\n",
        "\n",
        "10. list = [1, 2, 3, 4, 5, 6] \n",
        "\n",
        "replace 1st and 2nd index value by (89,78)\n",
        "\n",
        "print(list) "
      ]
    },
    {
      "cell_type": "code",
      "metadata": {
        "id": "G3JxP2ToVGCt",
        "colab": {
          "base_uri": "https://localhost:8080/"
        },
        "outputId": "c70466bf-8fea-46b6-b830-bf010ce1dd61"
      },
      "source": [
        "\n",
        "\n"
      ],
      "execution_count": null,
      "outputs": [
        {
          "output_type": "stream",
          "text": [
            "[1, 89, 78, 4, 5, 6]\n"
          ],
          "name": "stdout"
        }
      ]
    },
    {
      "cell_type": "markdown",
      "metadata": {
        "id": "5PEGDtZgVeTB"
      },
      "source": [
        "**[Slide No. -38]**\n",
        "\n",
        "11. Create a list and delete 2 to 4 index value  from list ?"
      ]
    },
    {
      "cell_type": "code",
      "metadata": {
        "id": "tuy0DMDqZ7Ux",
        "colab": {
          "base_uri": "https://localhost:8080/"
        },
        "outputId": "0594c0a8-701a-48b8-f6e5-58d403c38512"
      },
      "source": [
        "\n"
      ],
      "execution_count": null,
      "outputs": [
        {
          "output_type": "stream",
          "text": [
            "[1, 2, 6]\n"
          ],
          "name": "stdout"
        }
      ]
    },
    {
      "cell_type": "markdown",
      "metadata": {
        "id": "-OszCxUMZ8GW"
      },
      "source": [
        "**[Slide No.- 39]**\n",
        "\n",
        "12. Rermove Science  item from the list.\n",
        "\n",
        "Subject =['math', 'science', 'hindi', 'SST', 'Sanskrit']\n"
      ]
    },
    {
      "cell_type": "code",
      "metadata": {
        "id": "PwSvcAWJVexl",
        "colab": {
          "base_uri": "https://localhost:8080/"
        },
        "outputId": "f893e119-1f1c-4695-9670-0ec873c686b1"
      },
      "source": [
        "\n"
      ],
      "execution_count": null,
      "outputs": [
        {
          "output_type": "stream",
          "text": [
            "['math', 'hindi', 'SST', 'Sanskrit']\n"
          ],
          "name": "stdout"
        }
      ]
    },
    {
      "cell_type": "code",
      "metadata": {
        "colab": {
          "base_uri": "https://localhost:8080/"
        },
        "id": "L2loVsc_TFSq",
        "outputId": "97e088dd-e4b5-47f5-ef64-42e024961b0e"
      },
      "source": [
        ""
      ],
      "execution_count": null,
      "outputs": [
        {
          "output_type": "execute_result",
          "data": {
            "text/plain": [
              "['math', 'hindi', 'SST', 'Sanskrit']"
            ]
          },
          "metadata": {
            "tags": []
          },
          "execution_count": 24
        }
      ]
    },
    {
      "cell_type": "code",
      "metadata": {
        "id": "udi7tJ8kTsuB"
      },
      "source": [
        ""
      ],
      "execution_count": null,
      "outputs": []
    }
  ]
}